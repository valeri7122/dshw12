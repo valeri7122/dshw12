{
 "cells": [
  {
   "cell_type": "markdown",
   "metadata": {},
   "source": [
    "SpaCy"
   ]
  },
  {
   "cell_type": "code",
   "execution_count": 150,
   "metadata": {},
   "outputs": [],
   "source": [
    "text = '''The Orbiter Discovery, OV-103, is considered eligible for listing in the National Register of Historic Places (NRHP) in the context of \n",
    "the U.S. Space Shuttle Program (1969-2011) under Criterion A in the areas of Space Exploration and Transportation and under Criterion C in the \n",
    "area of Engineering. Because it has achieved significance within the past fifty years, Criteria Consideration G applies. Under Criterion A, \n",
    "Discovery is significant as the oldest of the three extant orbiter vehicles constructed for the Space Shuttle Program (SSP), the longest running \n",
    "American space program to date; she was the third of five orbiters built by NASA. Unlike the Mercury, Gemini, and Apollo programs, the SSP’s \n",
    "emphasis was on cost effectiveness and reusability, and eventually the construction of a space station. Including her maiden voyage (launched \n",
    "August 30, 1984), Discovery flew to space thirty-nine times, more than any of the other four orbiters; she was also the first orbiter to fly \n",
    "twenty missions. She had the honor of being chosen as the Return to Flight vehicle after both the Challenger and Columbia accidents. Discovery \n",
    "was the first shuttle to fly with the redesigned SRBs, a result of the Challenger accident, and the first shuttle to fly with the Phase II and \n",
    "Block I SSME. Discovery also carried the Hubble Space Telescope to orbit and performed two of the five servicing missions to the observatory. She \n",
    "flew the first and last dedicated Department of Defense (DoD) missions, as well as the first unclassified defense-related mission. In addition, \n",
    "Discovery was vital to the construction of the International Space Station (ISS); she flew thirteen of the thirty-seven total missions flown to \n",
    "the station by a U.S. Space Shuttle. She was the first orbiter to dock to the ISS, and the first to perform an exchange of a resident crew. Under \n",
    "Criterion C, Discovery is significant as a feat of engineering. According to Wayne Hale, a flight director from Johnson Space Center, the Space \n",
    "Shuttle orbiter represents a “huge technological leap from expendable rockets and capsules to a reusable, winged, hypersonic, cargo-carrying \n",
    "spacecraft.” Although her base structure followed a conventional aircraft design, she used advanced materials that both minimized her weight for \n",
    "cargo-carrying purposes and featured low thermal expansion ratios, which provided a stable base for her Thermal Protection System (TPS) materials. \n",
    "The Space Shuttle orbiter also featured the first reusable TPS; all previous spaceflight vehicles had a single-use, ablative heat shield. Other \n",
    "notable engineering achievements of the orbiter included the first reusable orbital propulsion system, and the first two-fault-tolerant Integrated \n",
    "Avionics System. As Hale stated, the Space Shuttle remains “the largest, fastest, winged hypersonic aircraft in history,” having regularly flown \n",
    "at twenty-five times the speed of sound.\n",
    "'''"
   ]
  },
  {
   "cell_type": "code",
   "execution_count": 283,
   "metadata": {},
   "outputs": [
    {
     "name": "stdout",
     "output_type": "stream",
     "text": [
      "Довжина тексту: 2927\n"
     ]
    }
   ],
   "source": [
    "print('Довжина тексту:', len(text))"
   ]
  },
  {
   "cell_type": "code",
   "execution_count": 284,
   "metadata": {},
   "outputs": [],
   "source": [
    "import spacy \n",
    "from spacy.lang.en.stop_words import STOP_WORDS\n",
    "from string import punctuation"
   ]
  },
  {
   "cell_type": "code",
   "execution_count": 285,
   "metadata": {},
   "outputs": [
    {
     "data": {
      "text/plain": [
       "The Orbiter Discovery, OV-103, is considered eligible for listing in the National Register of Historic Places (NRHP) in the context of \n",
       "the U.S. Space Shuttle Program (1969-2011) under Criterion A in the areas of Space Exploration and Transportation and under Criterion C in the \n",
       "area of Engineering. Because it has achieved significance within the past fifty years, Criteria Consideration G applies. Under Criterion A, \n",
       "Discovery is significant as the oldest of the three extant orbiter vehicles constructed for the Space Shuttle Program (SSP), the longest running \n",
       "American space program to date; she was the third of five orbiters built by NASA. Unlike the Mercury, Gemini, and Apollo programs, the SSP’s \n",
       "emphasis was on cost effectiveness and reusability, and eventually the construction of a space station. Including her maiden voyage (launched \n",
       "August 30, 1984), Discovery flew to space thirty-nine times, more than any of the other four orbiters; she was also the first orbiter to fly \n",
       "twenty missions. She had the honor of being chosen as the Return to Flight vehicle after both the Challenger and Columbia accidents. Discovery \n",
       "was the first shuttle to fly with the redesigned SRBs, a result of the Challenger accident, and the first shuttle to fly with the Phase II and \n",
       "Block I SSME. Discovery also carried the Hubble Space Telescope to orbit and performed two of the five servicing missions to the observatory. She \n",
       "flew the first and last dedicated Department of Defense (DoD) missions, as well as the first unclassified defense-related mission. In addition, \n",
       "Discovery was vital to the construction of the International Space Station (ISS); she flew thirteen of the thirty-seven total missions flown to \n",
       "the station by a U.S. Space Shuttle. She was the first orbiter to dock to the ISS, and the first to perform an exchange of a resident crew. Under \n",
       "Criterion C, Discovery is significant as a feat of engineering. According to Wayne Hale, a flight director from Johnson Space Center, the Space \n",
       "Shuttle orbiter represents a “huge technological leap from expendable rockets and capsules to a reusable, winged, hypersonic, cargo-carrying \n",
       "spacecraft.” Although her base structure followed a conventional aircraft design, she used advanced materials that both minimized her weight for \n",
       "cargo-carrying purposes and featured low thermal expansion ratios, which provided a stable base for her Thermal Protection System (TPS) materials. \n",
       "The Space Shuttle orbiter also featured the first reusable TPS; all previous spaceflight vehicles had a single-use, ablative heat shield. Other \n",
       "notable engineering achievements of the orbiter included the first reusable orbital propulsion system, and the first two-fault-tolerant Integrated \n",
       "Avionics System. As Hale stated, the Space Shuttle remains “the largest, fastest, winged hypersonic aircraft in history,” having regularly flown \n",
       "at twenty-five times the speed of sound."
      ]
     },
     "execution_count": 285,
     "metadata": {},
     "output_type": "execute_result"
    }
   ],
   "source": [
    "nlp = spacy.load('en_core_web_sm')\n",
    "doc = nlp(text)\n",
    "doc"
   ]
  },
  {
   "cell_type": "code",
   "execution_count": 286,
   "metadata": {},
   "outputs": [],
   "source": [
    "tokens = [token.text for token in doc]"
   ]
  },
  {
   "cell_type": "code",
   "execution_count": 287,
   "metadata": {},
   "outputs": [
    {
     "data": {
      "text/plain": [
       "'!\"#$%&\\'()*+,-./:;<=>?@[\\\\]^_`{|}~\\n'"
      ]
     },
     "execution_count": 287,
     "metadata": {},
     "output_type": "execute_result"
    }
   ],
   "source": [
    "punctuations = punctuation + '\\n'\n",
    "punctuations"
   ]
  },
  {
   "cell_type": "code",
   "execution_count": 288,
   "metadata": {},
   "outputs": [
    {
     "name": "stdout",
     "output_type": "stream",
     "text": [
      "[\"'s\", 'whereas', 'wherein', 'elsewhere', 'between', 'nine', 'and', 'fifty', 'top', 'amongst', 'n‘t', 'n’t', 'those', 'due', 'which', 'an', 'by', 'enough', 'somewhere', 'only', 'name', 'with', 'eight', 'how', 'bottom', 'it', 'less', 'whom', 'one', 'off', '’s', 'she', '’ll', 'them', 'moreover', 'least', 'fifteen', 'however', \"'ll\", 'herein', 'might', 'part', 'whoever', 'anyhow', 'onto', 'ourselves', 'toward', 'they', 'see', 'forty', 'most', 'until', 'whatever', 'must', 'being', 'along', \"n't\", 'these', 'indeed', 'below', 'has', 'its', 'every', 'this', 'hers', 'ten', 'everyone', 'when', 'do', 'another', 'get', 'often', 'really', 'before', 'were', 'never', 'nowhere', 'thence', 'their', 'whether', 'who', 'using', 'among', 'above', 'formerly', 'three', 'nobody', 'since', 'first', 'quite', 'seem', 'through', 'does', 'there', '’re', 'herself', 'whereafter', '‘ve', 'made', 'each', 'various', 'whole', 'also', 'no', '’m', 'latterly', 'therefore', 'very', 'because', 'towards', 'five', 'beforehand', 'though', 'more', 'something', 'beyond', 'much', 'he', 'always', 'hereupon', 'under', 'so', 'mine', 'move', 'sometimes', '‘d', '‘ll', 'becoming', 'two', 'latter', 'throughout', 'sixty', 'amount', 'anyway', 'whereby', 'as', 'thereafter', 'neither', 'thru', '’ve', 'thus', 'to', 'via', 'your', 'hereby', 'can', 'empty', 'per', 'too', 'if', 'make', 'please', 'someone', 'became', 'into', 'over', 'front', 'rather', 'hereafter', 'perhaps', 'four', 'everywhere', 'namely', 'whose', 'besides', 'doing', 'down', 'will', 'be', 'meanwhile', '‘s', 'did', 'against', 're', 'ever', \"'re\", 'anywhere', 'well', \"'m\", '‘re', 'at', 'seeming', 'out', 'eleven', 'should', 'nothing', 'nevertheless', 'become', 'some', 'itself', 'about', 'put', 'of', 'just', 'show', 'keep', 'what', 'side', 'still', 'whence', 'us', 'we', \"'d\", 'even', 'would', 'go', 'anything', 'for', 'from', 'otherwise', 'any', 'i', 'own', 'yours', 'cannot', 'former', 'without', 'used', 'yet', 'others', 'last', 'somehow', 'again', 'could', 'except', 'next', 'thereupon', 'around', 'sometime', 'afterwards', 'say', 'the', 'several', 'behind', 'whenever', 'hundred', 'seems', 'why', 'have', 'noone', 'themselves', 'wherever', 'none', 'serious', 'thereby', 'all', 'twelve', 'am', 'everything', 'take', 'hence', 'his', 'together', 'although', 'once', 'many', 'anyone', 'during', '’d', 'both', 'are', '‘m', 'but', 'him', 'me', 'on', 'may', 'then', 'third', 'not', 'such', 'my', 'becomes', 'yourselves', 'you', 'full', 'her', 'else', 'now', 'than', 'twenty', 'here', 'six', 'other', 'been', 'seemed', 'regarding', 'few', 'myself', 'within', 'ours', 'almost', 'alone', 'either', 'whither', 'is', 'done', 'ca', 'across', 'had', 'already', 'up', 'unless', 'back', 'upon', 'was', 'mostly', 'beside', 'whereupon', 'that', 'a', 'same', 'give', \"'ve\", 'while', 'yourself', 'therein', 'himself', 'after', 'in', 'where', 'nor', 'our', 'call', 'further', 'or']\n"
     ]
    }
   ],
   "source": [
    "stop_words = list(STOP_WORDS)\n",
    "print(stop_words)"
   ]
  },
  {
   "cell_type": "code",
   "execution_count": 289,
   "metadata": {},
   "outputs": [
    {
     "name": "stdout",
     "output_type": "stream",
     "text": [
      "{'Orbiter': 1, 'Discovery': 7, 'OV-103': 1, 'considered': 1, 'eligible': 1, 'listing': 1, 'National': 1, 'Register': 1, 'Historic': 1, 'Places': 1, 'NRHP': 1, 'context': 1, 'U.S.': 2, 'Space': 10, 'Shuttle': 6, 'Program': 2, '1969': 1, '2011': 1, 'Criterion': 4, 'areas': 1, 'Exploration': 1, 'Transportation': 1, 'C': 2, 'area': 1, 'Engineering': 1, 'achieved': 1, 'significance': 1, 'past': 1, 'years': 1, 'Criteria': 1, 'Consideration': 1, 'G': 1, 'applies': 1, 'significant': 2, 'oldest': 1, 'extant': 1, 'orbiter': 6, 'vehicles': 2, 'constructed': 1, 'SSP': 2, 'longest': 1, 'running': 1, 'American': 1, 'space': 3, 'program': 1, 'date': 1, 'orbiters': 2, 'built': 1, 'NASA': 1, 'Unlike': 1, 'Mercury': 1, 'Gemini': 1, 'Apollo': 1, 'programs': 1, 'emphasis': 1, 'cost': 1, 'effectiveness': 1, 'reusability': 1, 'eventually': 1, 'construction': 2, 'station': 2, 'Including': 1, 'maiden': 1, 'voyage': 1, 'launched': 1, 'August': 1, '30': 1, '1984': 1, 'flew': 3, 'thirty': 2, 'times': 2, 'fly': 3, 'missions': 4, 'honor': 1, 'chosen': 1, 'Return': 1, 'Flight': 1, 'vehicle': 1, 'Challenger': 2, 'Columbia': 1, 'accidents': 1, 'shuttle': 2, 'redesigned': 1, 'SRBs': 1, 'result': 1, 'accident': 1, 'Phase': 1, 'II': 1, 'Block': 1, 'SSME': 1, 'carried': 1, 'Hubble': 1, 'Telescope': 1, 'orbit': 1, 'performed': 1, 'servicing': 1, 'observatory': 1, 'dedicated': 1, 'Department': 1, 'Defense': 1, 'DoD': 1, 'unclassified': 1, 'defense': 1, 'related': 1, 'mission': 1, 'addition': 1, 'vital': 1, 'International': 1, 'Station': 1, 'ISS': 2, 'thirteen': 1, 'seven': 1, 'total': 1, 'flown': 2, 'dock': 1, 'perform': 1, 'exchange': 1, 'resident': 1, 'crew': 1, 'feat': 1, 'engineering': 2, 'According': 1, 'Wayne': 1, 'Hale': 2, 'flight': 1, 'director': 1, 'Johnson': 1, 'Center': 1, 'represents': 1, '“': 2, 'huge': 1, 'technological': 1, 'leap': 1, 'expendable': 1, 'rockets': 1, 'capsules': 1, 'reusable': 3, 'winged': 2, 'hypersonic': 2, 'cargo': 2, 'carrying': 2, 'spacecraft': 1, '”': 2, 'base': 2, 'structure': 1, 'followed': 1, 'conventional': 1, 'aircraft': 2, 'design': 1, 'advanced': 1, 'materials': 2, 'minimized': 1, 'weight': 1, 'purposes': 1, 'featured': 2, 'low': 1, 'thermal': 1, 'expansion': 1, 'ratios': 1, 'provided': 1, 'stable': 1, 'Thermal': 1, 'Protection': 1, 'System': 2, 'TPS': 2, 'previous': 1, 'spaceflight': 1, 'single': 1, 'use': 1, 'ablative': 1, 'heat': 1, 'shield': 1, 'notable': 1, 'achievements': 1, 'included': 1, 'orbital': 1, 'propulsion': 1, 'system': 1, 'fault': 1, 'tolerant': 1, 'Integrated': 1, 'Avionics': 1, 'stated': 1, 'remains': 1, 'largest': 1, 'fastest': 1, 'history': 1, 'having': 1, 'regularly': 1, 'speed': 1, 'sound': 1}\n"
     ]
    }
   ],
   "source": [
    "word_freq = {}\n",
    "stop_words = list(STOP_WORDS)\n",
    "for word in doc:\n",
    "    if word.text.lower() not in stop_words:\n",
    "        if word.text.lower() not in punctuations:\n",
    "            if word.text not in word_freq.keys():\n",
    "                word_freq[word.text] = 1\n",
    "            else:\n",
    "                word_freq[word.text] += 1\n",
    "print(word_freq)"
   ]
  },
  {
   "cell_type": "code",
   "execution_count": 290,
   "metadata": {},
   "outputs": [
    {
     "name": "stdout",
     "output_type": "stream",
     "text": [
      "{'Orbiter': 0.1, 'Discovery': 0.7, 'OV-103': 0.1, 'considered': 0.1, 'eligible': 0.1, 'listing': 0.1, 'National': 0.1, 'Register': 0.1, 'Historic': 0.1, 'Places': 0.1, 'NRHP': 0.1, 'context': 0.1, 'U.S.': 0.2, 'Space': 1.0, 'Shuttle': 1.0, 'Program': 0.3333333333333333, '1969': 0.16666666666666666, '2011': 0.16666666666666666, 'Criterion': 0.6666666666666666, 'areas': 0.16666666666666666, 'Exploration': 0.16666666666666666, 'Transportation': 0.16666666666666666, 'C': 0.3333333333333333, 'area': 0.16666666666666666, 'Engineering': 0.16666666666666666, 'achieved': 0.16666666666666666, 'significance': 0.16666666666666666, 'past': 0.16666666666666666, 'years': 0.16666666666666666, 'Criteria': 0.16666666666666666, 'Consideration': 0.16666666666666666, 'G': 0.16666666666666666, 'applies': 0.16666666666666666, 'significant': 0.3333333333333333, 'oldest': 0.16666666666666666, 'extant': 0.16666666666666666, 'orbiter': 1.0, 'vehicles': 0.5, 'constructed': 0.25, 'SSP': 0.5, 'longest': 0.25, 'running': 0.25, 'American': 0.25, 'space': 0.75, 'program': 0.25, 'date': 0.25, 'orbiters': 0.5, 'built': 0.25, 'NASA': 0.25, 'Unlike': 0.25, 'Mercury': 0.25, 'Gemini': 0.25, 'Apollo': 0.25, 'programs': 0.25, 'emphasis': 0.25, 'cost': 0.25, 'effectiveness': 0.25, 'reusability': 0.25, 'eventually': 0.25, 'construction': 0.5, 'station': 0.5, 'Including': 0.25, 'maiden': 0.25, 'voyage': 0.25, 'launched': 0.25, 'August': 0.25, '30': 0.25, '1984': 0.25, 'flew': 0.75, 'thirty': 0.5, 'times': 0.5, 'fly': 0.75, 'missions': 1.0, 'honor': 0.3333333333333333, 'chosen': 0.3333333333333333, 'Return': 0.3333333333333333, 'Flight': 0.3333333333333333, 'vehicle': 0.3333333333333333, 'Challenger': 0.6666666666666666, 'Columbia': 0.3333333333333333, 'accidents': 0.3333333333333333, 'shuttle': 0.6666666666666666, 'redesigned': 0.3333333333333333, 'SRBs': 0.3333333333333333, 'result': 0.3333333333333333, 'accident': 0.3333333333333333, 'Phase': 0.3333333333333333, 'II': 0.3333333333333333, 'Block': 0.3333333333333333, 'SSME': 0.3333333333333333, 'carried': 0.3333333333333333, 'Hubble': 0.3333333333333333, 'Telescope': 0.3333333333333333, 'orbit': 0.3333333333333333, 'performed': 0.3333333333333333, 'servicing': 0.3333333333333333, 'observatory': 0.3333333333333333, 'dedicated': 0.3333333333333333, 'Department': 0.3333333333333333, 'Defense': 0.3333333333333333, 'DoD': 0.3333333333333333, 'unclassified': 0.3333333333333333, 'defense': 0.3333333333333333, 'related': 0.3333333333333333, 'mission': 0.3333333333333333, 'addition': 0.3333333333333333, 'vital': 0.3333333333333333, 'International': 0.3333333333333333, 'Station': 0.3333333333333333, 'ISS': 0.6666666666666666, 'thirteen': 0.3333333333333333, 'seven': 0.3333333333333333, 'total': 0.3333333333333333, 'flown': 0.6666666666666666, 'dock': 0.3333333333333333, 'perform': 0.3333333333333333, 'exchange': 0.3333333333333333, 'resident': 0.3333333333333333, 'crew': 0.3333333333333333, 'feat': 0.3333333333333333, 'engineering': 0.6666666666666666, 'According': 0.3333333333333333, 'Wayne': 0.3333333333333333, 'Hale': 0.6666666666666666, 'flight': 0.3333333333333333, 'director': 0.3333333333333333, 'Johnson': 0.3333333333333333, 'Center': 0.3333333333333333, 'represents': 0.3333333333333333, '“': 0.6666666666666666, 'huge': 0.3333333333333333, 'technological': 0.3333333333333333, 'leap': 0.3333333333333333, 'expendable': 0.3333333333333333, 'rockets': 0.3333333333333333, 'capsules': 0.3333333333333333, 'reusable': 1.0, 'winged': 1.0, 'hypersonic': 1.0, 'cargo': 1.0, 'carrying': 1.0, 'spacecraft': 0.5, '”': 1.0, 'base': 1.0, 'structure': 0.5, 'followed': 0.5, 'conventional': 0.5, 'aircraft': 1.0, 'design': 0.5, 'advanced': 0.5, 'materials': 1.0, 'minimized': 0.5, 'weight': 0.5, 'purposes': 0.5, 'featured': 1.0, 'low': 0.5, 'thermal': 0.5, 'expansion': 0.5, 'ratios': 0.5, 'provided': 0.5, 'stable': 0.5, 'Thermal': 0.5, 'Protection': 0.5, 'System': 1.0, 'TPS': 1.0, 'previous': 1.0, 'spaceflight': 1.0, 'single': 1.0, 'use': 1.0, 'ablative': 1.0, 'heat': 1.0, 'shield': 1.0, 'notable': 1.0, 'achievements': 1.0, 'included': 1.0, 'orbital': 1.0, 'propulsion': 1.0, 'system': 1.0, 'fault': 1.0, 'tolerant': 1.0, 'Integrated': 1.0, 'Avionics': 1.0, 'stated': 1.0, 'remains': 1.0, 'largest': 1.0, 'fastest': 1.0, 'history': 1.0, 'having': 1.0, 'regularly': 1.0, 'speed': 1.0, 'sound': 1.0}\n"
     ]
    }
   ],
   "source": [
    "for word in word_freq.keys():\n",
    "    word_freq[word] = word_freq[word] / max(word_freq.values())\n",
    "print(word_freq)"
   ]
  },
  {
   "cell_type": "code",
   "execution_count": 291,
   "metadata": {},
   "outputs": [
    {
     "data": {
      "text/plain": [
       "[The Orbiter Discovery, OV-103, is considered eligible for listing in the National Register of Historic Places (NRHP) in the context of \n",
       " the U.S. Space Shuttle Program (1969-2011) under Criterion A in the areas of Space Exploration and Transportation and under Criterion C in the \n",
       " area of Engineering.,\n",
       " Because it has achieved significance within the past fifty years, Criteria Consideration G applies.,\n",
       " Under Criterion A, \n",
       " Discovery is significant as the oldest of the three extant orbiter vehicles constructed for the Space Shuttle Program (SSP), the longest running \n",
       " American space program to date; she was the third of five orbiters built by NASA.,\n",
       " Unlike the Mercury, Gemini, and Apollo programs, the SSP’s \n",
       " emphasis was on cost effectiveness and reusability, and eventually the construction of a space station.,\n",
       " Including her maiden voyage (launched \n",
       " August 30, 1984), Discovery flew to space thirty-nine times, more than any of the other four orbiters; she was also the first orbiter to fly \n",
       " twenty missions.,\n",
       " She had the honor of being chosen as the Return to Flight vehicle after both the Challenger and Columbia accidents.,\n",
       " Discovery \n",
       " was the first shuttle to fly with the redesigned SRBs, a result of the Challenger accident, and the first shuttle to fly with the Phase II and \n",
       " Block I SSME.,\n",
       " Discovery also carried the Hubble Space Telescope to orbit and performed two of the five servicing missions to the observatory.,\n",
       " She \n",
       " flew the first and last dedicated Department of Defense (DoD) missions, as well as the first unclassified defense-related mission.,\n",
       " In addition, \n",
       " Discovery was vital to the construction of the International Space Station (ISS); she flew thirteen of the thirty-seven total missions flown to \n",
       " the station by a U.S. Space Shuttle.,\n",
       " She was the first orbiter to dock to the ISS, and the first to perform an exchange of a resident crew.,\n",
       " Under \n",
       " Criterion C, Discovery is significant as a feat of engineering.,\n",
       " According to Wayne Hale, a flight director from Johnson Space Center, the Space \n",
       " Shuttle orbiter represents a “huge technological leap from expendable rockets and capsules to a reusable, winged, hypersonic, cargo-carrying \n",
       " spacecraft.”,\n",
       " Although her base structure followed a conventional aircraft design, she used advanced materials that both minimized her weight for \n",
       " cargo-carrying purposes and featured low thermal expansion ratios, which provided a stable base for her Thermal Protection System (TPS) materials. ,\n",
       " The Space Shuttle orbiter also featured the first reusable TPS; all previous spaceflight vehicles had a single-use, ablative heat shield.,\n",
       " Other \n",
       " notable engineering achievements of the orbiter included the first reusable orbital propulsion system, and the first two-fault-tolerant Integrated \n",
       " Avionics System.,\n",
       " As Hale stated, the Space Shuttle remains “the largest, fastest, winged hypersonic aircraft in history,” having regularly flown \n",
       " at twenty-five times the speed of sound.]"
      ]
     },
     "execution_count": 291,
     "metadata": {},
     "output_type": "execute_result"
    }
   ],
   "source": [
    "sent_tokens = [sent for sent in doc.sents]\n",
    "sent_tokens"
   ]
  },
  {
   "cell_type": "code",
   "execution_count": 292,
   "metadata": {},
   "outputs": [
    {
     "name": "stdout",
     "output_type": "stream",
     "text": [
      "{The Orbiter Discovery, OV-103, is considered eligible for listing in the National Register of Historic Places (NRHP) in the context of \n",
      "the U.S. Space Shuttle Program (1969-2011) under Criterion A in the areas of Space Exploration and Transportation and under Criterion C in the \n",
      "area of Engineering.: 8.166666666666668, Because it has achieved significance within the past fifty years, Criteria Consideration G applies.: 1.3333333333333333, Under Criterion A, \n",
      "Discovery is significant as the oldest of the three extant orbiter vehicles constructed for the Space Shuttle Program (SSP), the longest running \n",
      "American space program to date; she was the third of five orbiters built by NASA.: 9.616666666666667, Unlike the Mercury, Gemini, and Apollo programs, the SSP’s \n",
      "emphasis was on cost effectiveness and reusability, and eventually the construction of a space station.: 4.75, Including her maiden voyage (launched \n",
      "August 30, 1984), Discovery flew to space thirty-nine times, more than any of the other four orbiters; she was also the first orbiter to fly \n",
      "twenty missions.: 8.2, She had the honor of being chosen as the Return to Flight vehicle after both the Challenger and Columbia accidents.: 3.0, Discovery \n",
      "was the first shuttle to fly with the redesigned SRBs, a result of the Challenger accident, and the first shuttle to fly with the Phase II and \n",
      "Block I SSME.: 6.866666666666666, Discovery also carried the Hubble Space Telescope to orbit and performed two of the five servicing missions to the observatory.: 5.033333333333333, She \n",
      "flew the first and last dedicated Department of Defense (DoD) missions, as well as the first unclassified defense-related mission.: 4.416666666666666, In addition, \n",
      "Discovery was vital to the construction of the International Space Station (ISS); she flew thirteen of the thirty-seven total missions flown to \n",
      "the station by a U.S. Space Shuttle.: 10.816666666666665, She was the first orbiter to dock to the ISS, and the first to perform an exchange of a resident crew.: 3.333333333333334, Under \n",
      "Criterion C, Discovery is significant as a feat of engineering.: 3.033333333333333, According to Wayne Hale, a flight director from Johnson Space Center, the Space \n",
      "Shuttle orbiter represents a “huge technological leap from expendable rockets and capsules to a reusable, winged, hypersonic, cargo-carrying \n",
      "spacecraft.”: 16.166666666666668, Although her base structure followed a conventional aircraft design, she used advanced materials that both minimized her weight for \n",
      "cargo-carrying purposes and featured low thermal expansion ratios, which provided a stable base for her Thermal Protection System (TPS) materials. \n",
      ": 18.0, The Space Shuttle orbiter also featured the first reusable TPS; all previous spaceflight vehicles had a single-use, ablative heat shield.: 13.5, Other \n",
      "notable engineering achievements of the orbiter included the first reusable orbital propulsion system, and the first two-fault-tolerant Integrated \n",
      "Avionics System.: 13.666666666666666, As Hale stated, the Space Shuttle remains “the largest, fastest, winged hypersonic aircraft in history,” having regularly flown \n",
      "at twenty-five times the speed of sound.\n",
      ": 17.5}\n"
     ]
    }
   ],
   "source": [
    "sentence_weight = {}\n",
    "for sent in sent_tokens:\n",
    "    for word in sent:\n",
    "        if word.text in word_freq.keys():\n",
    "            if sent not in sentence_weight.keys():\n",
    "                sentence_weight[sent] = word_freq[word.text]\n",
    "            else:\n",
    "                sentence_weight[sent] += word_freq[word.text]\n",
    "print(sentence_weight)"
   ]
  },
  {
   "cell_type": "code",
   "execution_count": 325,
   "metadata": {},
   "outputs": [
    {
     "name": "stdout",
     "output_type": "stream",
     "text": [
      "Although her base structure followed a conventional aircraft design, she used advanced materials that both minimized her weight for \n",
      "cargo-carrying purposes and featured low thermal expansion ratios, which provided a stable base for her Thermal Protection System (TPS) materials. \n",
      "\n"
     ]
    }
   ],
   "source": [
    "from heapq import nlargest\n",
    "summary = nlargest(n = 1 , iterable = sentence_weight , key = sentence_weight.get)\n",
    "print(summary[0])"
   ]
  },
  {
   "cell_type": "markdown",
   "metadata": {},
   "source": [
    "nltk"
   ]
  },
  {
   "cell_type": "code",
   "execution_count": 315,
   "metadata": {},
   "outputs": [],
   "source": [
    "text = '''The Orbiter Discovery, OV-103, is considered eligible for listing in the National Register of Historic Places (NRHP) in the context of the U.S. Space Shuttle Program (1969-2011) under Criterion A in the areas of Space Exploration and Transportation and under Criterion C in the area of Engineering. Because it has achieved significance within the past fifty years, Criteria Consideration G applies. Under Criterion A, Discovery is significant as the oldest of the three extant orbiter vehicles constructed for the Space Shuttle Program (SSP), the longest running American space program to date; she was the third of five orbiters built by NASA. Unlike the Mercury, Gemini, and Apollo programs, the SSP’s emphasis was on cost effectiveness and reusability, and eventually the construction of a space station. Including her maiden voyage (launched August 30, 1984), Discovery flew to space thirty-nine times, more than any of the other four orbiters; she was also the first orbiter to fly twenty missions. She had the honor of being chosen as the Return to Flight vehicle after both the Challenger and Columbia accidents. Discovery was the first shuttle to fly with the redesigned SRBs, a result of the Challenger accident, and the first shuttle to fly with the Phase II and Block I SSME. Discovery also carried the Hubble Space Telescope to orbit and performed two of the five servicing missions to the observatory. She flew the first and last dedicated Department of Defense (DoD) missions, as well as the first unclassified defense-related mission. In addition, Discovery was vital to the construction of the International Space Station (ISS); she flew thirteen of the thirty-seven total missions flown to the station by a U.S. Space Shuttle. She was the first orbiter to dock to the ISS, and the first to perform an exchange of a resident crew. Under Criterion C, Discovery is significant as a feat of engineering. According to Wayne Hale, a flight director from Johnson Space Center, the Space Shuttle orbiter represents a “huge technological leap from expendable rockets and capsules to a reusable, winged, hypersonic, cargo-carrying spacecraft.” Although her base structure followed a conventional aircraft design, she used advanced materials that both minimized her weight for cargo-carrying purposes and featured low thermal expansion ratios, which provided a stable base for her Thermal Protection System (TPS) materials. The Space Shuttle orbiter also featured the first reusable TPS; all previous spaceflight vehicles had a single-use, ablative heat shield. Other notable engineering achievements of the orbiter included the first reusable orbital propulsion system, and the first two-fault-tolerant Integrated Avionics System. As Hale stated, the Space Shuttle remains “the largest, fastest, winged hypersonic aircraft in history,” having regularly flown at twenty-five times the speed of sound.\n",
    "'''"
   ]
  },
  {
   "cell_type": "code",
   "execution_count": 316,
   "metadata": {},
   "outputs": [],
   "source": [
    "import nltk\n",
    "from string import punctuation\n",
    "from nltk.corpus import stopwords\n",
    "from nltk.tokenize import word_tokenize\n",
    "from nltk.tokenize import sent_tokenize"
   ]
  },
  {
   "cell_type": "code",
   "execution_count": 317,
   "metadata": {},
   "outputs": [
    {
     "name": "stderr",
     "output_type": "stream",
     "text": [
      "[nltk_data] Downloading package stopwords to\n",
      "[nltk_data]     C:\\Users\\uxeno\\AppData\\Roaming\\nltk_data...\n",
      "[nltk_data]   Package stopwords is already up-to-date!\n"
     ]
    },
    {
     "data": {
      "text/plain": [
       "'!\"#$%&\\'()*+,-./:;<=>?@[\\\\]^_`{|}~\\n'"
      ]
     },
     "execution_count": 317,
     "metadata": {},
     "output_type": "execute_result"
    }
   ],
   "source": [
    "nltk.download('stopwords')\n",
    "stop_words2 = stopwords.words('english')\n",
    "\n",
    "punctuations2 = punctuation + '\\n'\n",
    "punctuations2"
   ]
  },
  {
   "cell_type": "code",
   "execution_count": 318,
   "metadata": {},
   "outputs": [],
   "source": [
    "tokens2 = nltk.tokenize.word_tokenize(text, language='english', preserve_line=False)"
   ]
  },
  {
   "cell_type": "code",
   "execution_count": 319,
   "metadata": {},
   "outputs": [
    {
     "name": "stdout",
     "output_type": "stream",
     "text": [
      "{'Orbiter': 1, 'Discovery': 7, 'OV-103': 1, 'considered': 1, 'eligible': 1, 'listing': 1, 'National': 1, 'Register': 1, 'Historic': 1, 'Places': 1, 'NRHP': 1, 'context': 1, 'U.S.': 2, 'Space': 10, 'Shuttle': 6, 'Program': 2, '1969-2011': 1, 'Criterion': 4, 'areas': 1, 'Exploration': 1, 'Transportation': 1, 'C': 2, 'area': 1, 'Engineering': 1, 'achieved': 1, 'significance': 1, 'within': 1, 'past': 1, 'fifty': 1, 'years': 1, 'Criteria': 1, 'Consideration': 1, 'G': 1, 'applies': 1, 'significant': 2, 'oldest': 1, 'three': 1, 'extant': 1, 'orbiter': 6, 'vehicles': 2, 'constructed': 1, 'SSP': 2, 'longest': 1, 'running': 1, 'American': 1, 'space': 3, 'program': 1, 'date': 1, 'third': 1, 'five': 2, 'orbiters': 2, 'built': 1, 'NASA': 1, 'Unlike': 1, 'Mercury': 1, 'Gemini': 1, 'Apollo': 1, 'programs': 1, '’': 1, 'emphasis': 1, 'cost': 1, 'effectiveness': 1, 'reusability': 1, 'eventually': 1, 'construction': 2, 'station': 2, 'Including': 1, 'maiden': 1, 'voyage': 1, 'launched': 1, 'August': 1, '30': 1, '1984': 1, 'flew': 3, 'thirty-nine': 1, 'times': 2, 'four': 1, 'also': 3, 'first': 10, 'fly': 3, 'twenty': 1, 'missions': 4, 'honor': 1, 'chosen': 1, 'Return': 1, 'Flight': 1, 'vehicle': 1, 'Challenger': 2, 'Columbia': 1, 'accidents': 1, 'shuttle': 2, 'redesigned': 1, 'SRBs': 1, 'result': 1, 'accident': 1, 'Phase': 1, 'II': 1, 'Block': 1, 'SSME': 1, 'carried': 1, 'Hubble': 1, 'Telescope': 1, 'orbit': 1, 'performed': 1, 'two': 1, 'servicing': 1, 'observatory': 1, 'last': 1, 'dedicated': 1, 'Department': 1, 'Defense': 1, 'DoD': 1, 'well': 1, 'unclassified': 1, 'defense-related': 1, 'mission': 1, 'addition': 1, 'vital': 1, 'International': 1, 'Station': 1, 'ISS': 2, 'thirteen': 1, 'thirty-seven': 1, 'total': 1, 'flown': 2, 'dock': 1, 'perform': 1, 'exchange': 1, 'resident': 1, 'crew': 1, 'feat': 1, 'engineering': 2, 'According': 1, 'Wayne': 1, 'Hale': 2, 'flight': 1, 'director': 1, 'Johnson': 1, 'Center': 1, 'represents': 1, '“': 2, 'huge': 1, 'technological': 1, 'leap': 1, 'expendable': 1, 'rockets': 1, 'capsules': 1, 'reusable': 3, 'winged': 2, 'hypersonic': 2, 'cargo-carrying': 2, 'spacecraft.': 1, '”': 2, 'Although': 1, 'base': 2, 'structure': 1, 'followed': 1, 'conventional': 1, 'aircraft': 2, 'design': 1, 'used': 1, 'advanced': 1, 'materials': 2, 'minimized': 1, 'weight': 1, 'purposes': 1, 'featured': 2, 'low': 1, 'thermal': 1, 'expansion': 1, 'ratios': 1, 'provided': 1, 'stable': 1, 'Thermal': 1, 'Protection': 1, 'System': 2, 'TPS': 2, 'previous': 1, 'spaceflight': 1, 'single-use': 1, 'ablative': 1, 'heat': 1, 'shield': 1, 'notable': 1, 'achievements': 1, 'included': 1, 'orbital': 1, 'propulsion': 1, 'system': 1, 'two-fault-tolerant': 1, 'Integrated': 1, 'Avionics': 1, 'stated': 1, 'remains': 1, 'largest': 1, 'fastest': 1, 'history': 1, 'regularly': 1, 'twenty-five': 1, 'speed': 1, 'sound': 1}\n"
     ]
    }
   ],
   "source": [
    "word_freq2 = {}\n",
    "for word in tokens2:\n",
    "    if word.lower() not in stop_words2:\n",
    "        if word.lower() not in punctuations:\n",
    "            if word not in word_freq2.keys():\n",
    "                word_freq2[word] = 1\n",
    "            else:\n",
    "                word_freq2[word] += 1\n",
    "print(word_freq2)"
   ]
  },
  {
   "cell_type": "code",
   "execution_count": 320,
   "metadata": {},
   "outputs": [
    {
     "name": "stdout",
     "output_type": "stream",
     "text": [
      "{'Orbiter': 0.1, 'Discovery': 0.7, 'OV-103': 0.1, 'considered': 0.1, 'eligible': 0.1, 'listing': 0.1, 'National': 0.1, 'Register': 0.1, 'Historic': 0.1, 'Places': 0.1, 'NRHP': 0.1, 'context': 0.1, 'U.S.': 0.2, 'Space': 1.0, 'Shuttle': 0.6, 'Program': 0.2, '1969-2011': 0.1, 'Criterion': 0.4, 'areas': 0.1, 'Exploration': 0.1, 'Transportation': 0.1, 'C': 0.2, 'area': 0.1, 'Engineering': 0.1, 'achieved': 0.1, 'significance': 0.1, 'within': 0.1, 'past': 0.1, 'fifty': 0.1, 'years': 0.1, 'Criteria': 0.1, 'Consideration': 0.1, 'G': 0.1, 'applies': 0.1, 'significant': 0.2, 'oldest': 0.1, 'three': 0.1, 'extant': 0.1, 'orbiter': 0.6, 'vehicles': 0.2, 'constructed': 0.1, 'SSP': 0.2, 'longest': 0.1, 'running': 0.1, 'American': 0.1, 'space': 0.3, 'program': 0.1, 'date': 0.1, 'third': 0.1, 'five': 0.2, 'orbiters': 0.2, 'built': 0.1, 'NASA': 0.1, 'Unlike': 0.1, 'Mercury': 0.1, 'Gemini': 0.1, 'Apollo': 0.1, 'programs': 0.1, '’': 0.1, 'emphasis': 0.1, 'cost': 0.1, 'effectiveness': 0.1, 'reusability': 0.1, 'eventually': 0.1, 'construction': 0.2, 'station': 0.2, 'Including': 0.1, 'maiden': 0.1, 'voyage': 0.1, 'launched': 0.1, 'August': 0.1, '30': 0.1, '1984': 0.1, 'flew': 0.3, 'thirty-nine': 0.1, 'times': 0.2, 'four': 0.1, 'also': 0.3, 'first': 1.0, 'fly': 0.75, 'twenty': 0.25, 'missions': 1.0, 'honor': 0.3333333333333333, 'chosen': 0.3333333333333333, 'Return': 0.3333333333333333, 'Flight': 0.3333333333333333, 'vehicle': 0.3333333333333333, 'Challenger': 0.6666666666666666, 'Columbia': 0.3333333333333333, 'accidents': 0.3333333333333333, 'shuttle': 0.6666666666666666, 'redesigned': 0.3333333333333333, 'SRBs': 0.3333333333333333, 'result': 0.3333333333333333, 'accident': 0.3333333333333333, 'Phase': 0.3333333333333333, 'II': 0.3333333333333333, 'Block': 0.3333333333333333, 'SSME': 0.3333333333333333, 'carried': 0.3333333333333333, 'Hubble': 0.3333333333333333, 'Telescope': 0.3333333333333333, 'orbit': 0.3333333333333333, 'performed': 0.3333333333333333, 'two': 0.3333333333333333, 'servicing': 0.3333333333333333, 'observatory': 0.3333333333333333, 'last': 0.3333333333333333, 'dedicated': 0.3333333333333333, 'Department': 0.3333333333333333, 'Defense': 0.3333333333333333, 'DoD': 0.3333333333333333, 'well': 0.3333333333333333, 'unclassified': 0.3333333333333333, 'defense-related': 0.3333333333333333, 'mission': 0.3333333333333333, 'addition': 0.3333333333333333, 'vital': 0.3333333333333333, 'International': 0.3333333333333333, 'Station': 0.3333333333333333, 'ISS': 0.6666666666666666, 'thirteen': 0.3333333333333333, 'thirty-seven': 0.3333333333333333, 'total': 0.3333333333333333, 'flown': 0.6666666666666666, 'dock': 0.3333333333333333, 'perform': 0.3333333333333333, 'exchange': 0.3333333333333333, 'resident': 0.3333333333333333, 'crew': 0.3333333333333333, 'feat': 0.3333333333333333, 'engineering': 0.6666666666666666, 'According': 0.3333333333333333, 'Wayne': 0.3333333333333333, 'Hale': 0.6666666666666666, 'flight': 0.3333333333333333, 'director': 0.3333333333333333, 'Johnson': 0.3333333333333333, 'Center': 0.3333333333333333, 'represents': 0.3333333333333333, '“': 0.6666666666666666, 'huge': 0.3333333333333333, 'technological': 0.3333333333333333, 'leap': 0.3333333333333333, 'expendable': 0.3333333333333333, 'rockets': 0.3333333333333333, 'capsules': 0.3333333333333333, 'reusable': 1.0, 'winged': 1.0, 'hypersonic': 1.0, 'cargo-carrying': 1.0, 'spacecraft.': 0.5, '”': 1.0, 'Although': 0.5, 'base': 1.0, 'structure': 0.5, 'followed': 0.5, 'conventional': 0.5, 'aircraft': 1.0, 'design': 0.5, 'used': 0.5, 'advanced': 0.5, 'materials': 1.0, 'minimized': 0.5, 'weight': 0.5, 'purposes': 0.5, 'featured': 1.0, 'low': 0.5, 'thermal': 0.5, 'expansion': 0.5, 'ratios': 0.5, 'provided': 0.5, 'stable': 0.5, 'Thermal': 0.5, 'Protection': 0.5, 'System': 1.0, 'TPS': 1.0, 'previous': 1.0, 'spaceflight': 1.0, 'single-use': 1.0, 'ablative': 1.0, 'heat': 1.0, 'shield': 1.0, 'notable': 1.0, 'achievements': 1.0, 'included': 1.0, 'orbital': 1.0, 'propulsion': 1.0, 'system': 1.0, 'two-fault-tolerant': 1.0, 'Integrated': 1.0, 'Avionics': 1.0, 'stated': 1.0, 'remains': 1.0, 'largest': 1.0, 'fastest': 1.0, 'history': 1.0, 'regularly': 1.0, 'twenty-five': 1.0, 'speed': 1.0, 'sound': 1.0}\n"
     ]
    }
   ],
   "source": [
    "for word in word_freq2.keys():\n",
    "    word_freq2[word] = word_freq2[word] / max(word_freq2.values())\n",
    "print(word_freq2)"
   ]
  },
  {
   "cell_type": "code",
   "execution_count": 321,
   "metadata": {},
   "outputs": [
    {
     "name": "stderr",
     "output_type": "stream",
     "text": [
      "[nltk_data] Downloading package punkt to\n",
      "[nltk_data]     C:\\Users\\uxeno\\AppData\\Roaming\\nltk_data...\n",
      "[nltk_data]   Package punkt is already up-to-date!\n"
     ]
    }
   ],
   "source": [
    "nltk.download('punkt')\n",
    "\n",
    "sent_tokens2 = sent_tokenize(text)"
   ]
  },
  {
   "cell_type": "code",
   "execution_count": 322,
   "metadata": {},
   "outputs": [
    {
     "name": "stdout",
     "output_type": "stream",
     "text": [
      "{'The Orbiter Discovery, OV-103, is considered eligible for listing in the National Register of Historic Places (NRHP) in the context of the U.S. Space Shuttle Program (1969-2011) under Criterion A in the areas of Space Exploration and Transportation and under Criterion C in the area of Engineering.': 0.6000000000000001, 'Because it has achieved significance within the past fifty years, Criteria Consideration G applies.': 0.5, 'Under Criterion A, Discovery is significant as the oldest of the three extant orbiter vehicles constructed for the Space Shuttle Program (SSP), the longest running American space program to date; she was the third of five orbiters built by NASA.': 0.2, 'Unlike the Mercury, Gemini, and Apollo programs, the SSP’s emphasis was on cost effectiveness and reusability, and eventually the construction of a space station.': 0.2, 'She had the honor of being chosen as the Return to Flight vehicle after both the Challenger and Columbia accidents.': 0.4, 'Discovery was the first shuttle to fly with the redesigned SRBs, a result of the Challenger accident, and the first shuttle to fly with the Phase II and Block I SSME.': 0.2, 'Under Criterion C, Discovery is significant as a feat of engineering.': 0.4, 'According to Wayne Hale, a flight director from Johnson Space Center, the Space Shuttle orbiter represents a “huge technological leap from expendable rockets and capsules to a reusable, winged, hypersonic, cargo-carrying spacecraft.” Although her base structure followed a conventional aircraft design, she used advanced materials that both minimized her weight for cargo-carrying purposes and featured low thermal expansion ratios, which provided a stable base for her Thermal Protection System (TPS) materials.': 1.8666666666666667, 'As Hale stated, the Space Shuttle remains “the largest, fastest, winged hypersonic aircraft in history,” having regularly flown at twenty-five times the speed of sound.': 1.6666666666666665}\n"
     ]
    }
   ],
   "source": [
    "sentence_weight2 = {}\n",
    "for sent in sent_tokens2:\n",
    "    for word in sent:\n",
    "        if word in word_freq2.keys():\n",
    "            if sent not in sentence_weight2.keys():\n",
    "                sentence_weight2[sent] = word_freq2[word]\n",
    "            else:\n",
    "                sentence_weight2[sent] += word_freq2[word]\n",
    "print(sentence_weight2)"
   ]
  },
  {
   "cell_type": "code",
   "execution_count": 324,
   "metadata": {},
   "outputs": [
    {
     "name": "stdout",
     "output_type": "stream",
     "text": [
      "According to Wayne Hale, a flight director from Johnson Space Center, the Space Shuttle orbiter represents a “huge technological leap from expendable rockets and capsules to a reusable, winged, hypersonic, cargo-carrying spacecraft.” Although her base structure followed a conventional aircraft design, she used advanced materials that both minimized her weight for cargo-carrying purposes and featured low thermal expansion ratios, which provided a stable base for her Thermal Protection System (TPS) materials.\n"
     ]
    }
   ],
   "source": [
    "summary2 = nlargest(n = 1 , iterable = sentence_weight2, key = sentence_weight2.get)\n",
    "print(summary2[0])"
   ]
  }
 ],
 "metadata": {
  "accelerator": "GPU",
  "colab": {
   "name": "tensorflow_mnist_hw.ipynb",
   "provenance": []
  },
  "kernelspec": {
   "display_name": "Python 3 (ipykernel)",
   "language": "python",
   "name": "python3"
  },
  "language_info": {
   "codemirror_mode": {
    "name": "ipython",
    "version": 3
   },
   "file_extension": ".py",
   "mimetype": "text/x-python",
   "name": "python",
   "nbconvert_exporter": "python",
   "pygments_lexer": "ipython3",
   "version": "3.11.1"
  }
 },
 "nbformat": 4,
 "nbformat_minor": 1
}
